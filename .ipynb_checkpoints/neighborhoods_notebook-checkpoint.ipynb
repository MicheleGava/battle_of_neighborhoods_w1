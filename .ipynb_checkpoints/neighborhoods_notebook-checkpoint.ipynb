{
 "cells": [
  {
   "cell_type": "markdown",
   "metadata": {},
   "source": [
    "# Capstone Project - The Battle of Neighborhoods (Week 1)"
   ]
  },
  {
   "cell_type": "markdown",
   "metadata": {},
   "source": [
    "<table  align=left>\n",
    "    <tr>\n",
    "        <td>\n",
    "            <figure>\n",
    "                <img src=\"./imgs/ph01.jpeg\" alt=\"Rome\">\n",
    "            </figure>\n",
    "        </td>\n",
    "        <td>\n",
    "            <h1><font size = 5>Social centers in Rome</font></h1>\n",
    "        </td>\n",
    "    </tr>\n",
    "</table>\n"
   ]
  },
  {
   "cell_type": "markdown",
   "metadata": {},
   "source": [
    "## Table of contents:\n",
    "* [Introduction](#introduction)\n",
    "* [Background](#background)\n",
    "* [Data](#data)\n"
   ]
  },
  {
   "cell_type": "markdown",
   "metadata": {},
   "source": [
    "## Introduction <a class=\"anchor\" id=\"introduction\"></a>"
   ]
  },
  {
   "cell_type": "markdown",
   "metadata": {},
   "source": [
    "Suppose a social cooperative providing social services for the city of Rome (Italy)\n",
    "\n",
    "This organization is in charge by Rome's administration to supply services to prevent youth discomfort. \n",
    "\n",
    "They decided to open social centers in various locations of the city, to provide places where young people can meet and find informations and support\n",
    "\n",
    "Due to budget limitations, the organization needs to find the areas of the city where this service is needed the most, in order to concentrate their limited financial rescources.\n",
    "\n",
    "So they reached our Data Science Team and toghether we decided to work on the following **question**:\n",
    "\n",
    "*Can we find Rome's neighboroods where a social center is most needed?* "
   ]
  },
  {
   "cell_type": "markdown",
   "metadata": {},
   "source": [
    "## Background <a class=\"anchor\" id=\"background\"></a>"
   ]
  },
  {
   "cell_type": "markdown",
   "metadata": {},
   "source": [
    "Rome is the capital and biggest city of Italy, with a population of 2,808,293 at 01.01.2021 (source: www.istat.it) and a territory of 1,285 km²\n",
    "\n",
    "It has several administrative subdivision; one of them is the subdivion in \"Zone urbanistiche di Roma\" (\"Rome's urbanistic zones\"), which can approximate the concept of neighborhood, establised in 1977 for statistical and territorial planning reasons. This divides Rome's territory in 155 Zones (= Neighborhoods), grouped in 15 \"Municipi\" (=Boroughs)\n",
    "\n",
    "You can find more on Wikipedia: https://it.wikipedia.org/wiki/Zone_urbanistiche_di_Roma (I apologize for been only in italian) and on google maps: https://www.google.com/maps/d/u/0/viewer?mid=1E4TpQ9oftDIBneEK4KzDFwQfbvQ&ll=41.89062981328977%2C12.346966041866727&z=11\n",
    "\n",
    "\n",
    "The following image (taken from Wikipedia page) shows the map of Rome's urbanistic zones\n",
    "\n",
    "<figure>\n",
    "    <img src=\"./imgs/ph02.png\" alt=\"Rome's urbanistic zones\">\n",
    "    <figcaption>Rome's urbanistic zones</figcaption>\n",
    "</figure>\n",
    "\n",
    "For the objective of our analyses, we look for a method to create \"*profiles*\" of Rome's neighborhoods, such that we can create groups (*clusters*) of neighborhoods which are similar with respect of:\n",
    "- socio-economic factors: \n",
    "economic situation can be seen as a factor of discomfort, so we want a neighborhood's profile to take account of it\n",
    "- density of venues:\n",
    "shortage of venues where people can meet (including bars, restaurants, cinemas, theatres, museums, and so on) can motivate the needing of a social center as an alternative for young people  \n",
    "\n",
    "The underlying idea is that if we can find the clusters where the above-mentioned factors are low, than those neighborhoods that belong to these clusters are those who requires our service the most "
   ]
  },
  {
   "cell_type": "markdown",
   "metadata": {},
   "source": [
    "## Data <a class=\"anchor\" id=\"data\"></a>"
   ]
  },
  {
   "cell_type": "markdown",
   "metadata": {},
   "source": [
    "As stated in the background section, we need both socio-economic and location data\n",
    "\n",
    "**1. socio-economic data**\n",
    "\n",
    "for this category of data, there's no easily available statistics on the neighborhood-level. But we can leverage a web-site which provides informations about the real-estate market at a very fine-grained level.\n",
    "\n",
    "This site is [mercato-immobiliare.info](www.mercato-immobiliare.info), and we can find data on Rome's neighborhood apartments quotations at this url: https://www.mercato-immobiliare.info/lazio/roma/roma/quotazione-appartamento.html\n",
    "\n",
    "Again, this is only in italian (I apologize for that), but I think it's easy to explain. See image below\n",
    "\n",
    "<figure>\n",
    "    <img src=\"./imgs/ph03.png\" alt=\"Aparments quotation\">\n",
    "</figure>\n",
    "\n",
    "*(Note that data can vary dipending on when you land on the site, because they are updated on a daily basis)*\n",
    "\n",
    "In the table shown on the image, we have:\n",
    "* \"zona\" = neighborhood name\n",
    "* \"vendita\" = sale price per squared meter\n",
    "* \"affitto\" = rent price per squared meter/month\n",
    "* other fields of no interest..,\n",
    "\n",
    "Furthermore, the markers on the first column are associated to a google maps link with coordinates (latitude, longitude) of the neighborhood hard-coded. So, parsing the link we can retrieve the coords of every neighborhood, which are needed for location data (more on this in *methodology* section)\n",
    "\n",
    "The idea here is that apartment prices (sales and rent) can be a rough proxy of the economic status of a neighborhood\n",
    "\n",
    "**2. location data**\n",
    "\n",
    "for this category of data, we can leverage Foursquares APIs in order to retrieve:\n",
    "* venues in every neighborhood, using the <code>explore</code> endpoint and the coords retrieved on previews step\n",
    "* category of each venue from the response, in order to build the venues profile of each neighborhood "
   ]
  },
  {
   "cell_type": "code",
   "execution_count": null,
   "metadata": {},
   "outputs": [],
   "source": []
  },
  {
   "cell_type": "code",
   "execution_count": null,
   "metadata": {},
   "outputs": [],
   "source": []
  }
 ],
 "metadata": {
  "kernelspec": {
   "display_name": "Python 3",
   "language": "python",
   "name": "python3"
  },
  "language_info": {
   "codemirror_mode": {
    "name": "ipython",
    "version": 3
   },
   "file_extension": ".py",
   "mimetype": "text/x-python",
   "name": "python",
   "nbconvert_exporter": "python",
   "pygments_lexer": "ipython3",
   "version": "3.6.6"
  }
 },
 "nbformat": 4,
 "nbformat_minor": 5
}
